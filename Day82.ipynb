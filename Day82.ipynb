{
 "cells": [
  {
   "cell_type": "markdown",
   "id": "4c17349e",
   "metadata": {},
   "source": [
    "# Feature Scaling"
   ]
  },
  {
   "cell_type": "raw",
   "id": "8b95e06b",
   "metadata": {},
   "source": [
    "Normalization Techniques:\n",
    "    \n",
    "1.Rescaling: MinMaxScaler\n",
    "        (0,1)\n",
    "        \n",
    "2.Standardising : StandardScaler\n",
    "        float values \n",
    "        Z-score"
   ]
  },
  {
   "cell_type": "code",
   "execution_count": 1,
   "id": "f3ce06fd",
   "metadata": {},
   "outputs": [],
   "source": [
    "import numpy as np\n",
    "import pandas as pd\n",
    "import matplotlib.pyplot as plt"
   ]
  },
  {
   "cell_type": "code",
   "execution_count": 3,
   "id": "ab9af72c",
   "metadata": {},
   "outputs": [
    {
     "data": {
      "text/html": [
       "<div>\n",
       "<style scoped>\n",
       "    .dataframe tbody tr th:only-of-type {\n",
       "        vertical-align: middle;\n",
       "    }\n",
       "\n",
       "    .dataframe tbody tr th {\n",
       "        vertical-align: top;\n",
       "    }\n",
       "\n",
       "    .dataframe thead th {\n",
       "        text-align: right;\n",
       "    }\n",
       "</style>\n",
       "<table border=\"1\" class=\"dataframe\">\n",
       "  <thead>\n",
       "    <tr style=\"text-align: right;\">\n",
       "      <th></th>\n",
       "      <th>x1</th>\n",
       "      <th>x2</th>\n",
       "      <th>x3</th>\n",
       "    </tr>\n",
       "  </thead>\n",
       "  <tbody>\n",
       "    <tr>\n",
       "      <th>0</th>\n",
       "      <td>13.916028</td>\n",
       "      <td>29.923484</td>\n",
       "      <td>48.007096</td>\n",
       "    </tr>\n",
       "    <tr>\n",
       "      <th>1</th>\n",
       "      <td>8.999500</td>\n",
       "      <td>29.634736</td>\n",
       "      <td>49.603255</td>\n",
       "    </tr>\n",
       "    <tr>\n",
       "      <th>2</th>\n",
       "      <td>3.875272</td>\n",
       "      <td>31.323093</td>\n",
       "      <td>41.473486</td>\n",
       "    </tr>\n",
       "    <tr>\n",
       "      <th>3</th>\n",
       "      <td>7.719152</td>\n",
       "      <td>29.637103</td>\n",
       "      <td>54.742253</td>\n",
       "    </tr>\n",
       "    <tr>\n",
       "      <th>4</th>\n",
       "      <td>6.947330</td>\n",
       "      <td>36.629922</td>\n",
       "      <td>51.219081</td>\n",
       "    </tr>\n",
       "    <tr>\n",
       "      <th>...</th>\n",
       "      <td>...</td>\n",
       "      <td>...</td>\n",
       "      <td>...</td>\n",
       "    </tr>\n",
       "    <tr>\n",
       "      <th>995</th>\n",
       "      <td>5.882939</td>\n",
       "      <td>36.982842</td>\n",
       "      <td>51.781622</td>\n",
       "    </tr>\n",
       "    <tr>\n",
       "      <th>996</th>\n",
       "      <td>10.503510</td>\n",
       "      <td>34.903674</td>\n",
       "      <td>52.914072</td>\n",
       "    </tr>\n",
       "    <tr>\n",
       "      <th>997</th>\n",
       "      <td>10.105538</td>\n",
       "      <td>29.462218</td>\n",
       "      <td>50.496114</td>\n",
       "    </tr>\n",
       "    <tr>\n",
       "      <th>998</th>\n",
       "      <td>9.411950</td>\n",
       "      <td>33.682794</td>\n",
       "      <td>44.177899</td>\n",
       "    </tr>\n",
       "    <tr>\n",
       "      <th>999</th>\n",
       "      <td>11.732327</td>\n",
       "      <td>33.055290</td>\n",
       "      <td>52.283932</td>\n",
       "    </tr>\n",
       "  </tbody>\n",
       "</table>\n",
       "<p>1000 rows × 3 columns</p>\n",
       "</div>"
      ],
      "text/plain": [
       "            x1         x2         x3\n",
       "0    13.916028  29.923484  48.007096\n",
       "1     8.999500  29.634736  49.603255\n",
       "2     3.875272  31.323093  41.473486\n",
       "3     7.719152  29.637103  54.742253\n",
       "4     6.947330  36.629922  51.219081\n",
       "..         ...        ...        ...\n",
       "995   5.882939  36.982842  51.781622\n",
       "996  10.503510  34.903674  52.914072\n",
       "997  10.105538  29.462218  50.496114\n",
       "998   9.411950  33.682794  44.177899\n",
       "999  11.732327  33.055290  52.283932\n",
       "\n",
       "[1000 rows x 3 columns]"
      ]
     },
     "execution_count": 3,
     "metadata": {},
     "output_type": "execute_result"
    }
   ],
   "source": [
    "data = pd.DataFrame({'x1':np.random.chisquare(10,1000),\n",
    "'x2':np.random.beta(10,2,1000)*40,\n",
    "'x3':np.random.normal(50,3,1000)})\n",
    "data"
   ]
  },
  {
   "cell_type": "code",
   "execution_count": 8,
   "id": "a4d7b143",
   "metadata": {},
   "outputs": [
    {
     "data": {
      "text/plain": [
       "array([[0.44018419, 0.60177607, 0.36850863],\n",
       "       [0.2661014 , 0.59030714, 0.44394485],\n",
       "       [0.08466443, 0.65736794, 0.05972292],\n",
       "       ...,\n",
       "       [0.30526361, 0.58345477, 0.48614236],\n",
       "       [0.28070528, 0.75109425, 0.1875365 ],\n",
       "       [0.36286442, 0.72617007, 0.57063664]])"
      ]
     },
     "execution_count": 8,
     "metadata": {},
     "output_type": "execute_result"
    }
   ],
   "source": [
    "from sklearn.preprocessing import MinMaxScaler\n",
    "ms=MinMaxScaler()\n",
    "data1=ms.fit_transform(data)\n",
    "data1"
   ]
  },
  {
   "cell_type": "code",
   "execution_count": 16,
   "id": "7586b483",
   "metadata": {},
   "outputs": [
    {
     "data": {
      "text/plain": [
       "0.26610140193486126"
      ]
     },
     "execution_count": 16,
     "metadata": {},
     "output_type": "execute_result"
    }
   ],
   "source": [
    "data1[1].min()"
   ]
  },
  {
   "cell_type": "code",
   "execution_count": 17,
   "id": "da0b61ca",
   "metadata": {},
   "outputs": [
    {
     "data": {
      "text/plain": [
       "0.5903071442608835"
      ]
     },
     "execution_count": 17,
     "metadata": {},
     "output_type": "execute_result"
    }
   ],
   "source": [
    "data1[1].max()"
   ]
  },
  {
   "cell_type": "code",
   "execution_count": 18,
   "id": "0dd2f62c",
   "metadata": {},
   "outputs": [
    {
     "data": {
      "text/html": [
       "<div>\n",
       "<style scoped>\n",
       "    .dataframe tbody tr th:only-of-type {\n",
       "        vertical-align: middle;\n",
       "    }\n",
       "\n",
       "    .dataframe tbody tr th {\n",
       "        vertical-align: top;\n",
       "    }\n",
       "\n",
       "    .dataframe thead th {\n",
       "        text-align: right;\n",
       "    }\n",
       "</style>\n",
       "<table border=\"1\" class=\"dataframe\">\n",
       "  <thead>\n",
       "    <tr style=\"text-align: right;\">\n",
       "      <th></th>\n",
       "      <th>x1</th>\n",
       "      <th>x2</th>\n",
       "      <th>x3</th>\n",
       "    </tr>\n",
       "  </thead>\n",
       "  <tbody>\n",
       "    <tr>\n",
       "      <th>0</th>\n",
       "      <td>10.540904</td>\n",
       "      <td>34.709330</td>\n",
       "      <td>50.225706</td>\n",
       "    </tr>\n",
       "    <tr>\n",
       "      <th>1</th>\n",
       "      <td>10.959311</td>\n",
       "      <td>37.515444</td>\n",
       "      <td>48.218027</td>\n",
       "    </tr>\n",
       "    <tr>\n",
       "      <th>2</th>\n",
       "      <td>16.235863</td>\n",
       "      <td>25.766240</td>\n",
       "      <td>50.884046</td>\n",
       "    </tr>\n",
       "    <tr>\n",
       "      <th>3</th>\n",
       "      <td>10.862900</td>\n",
       "      <td>29.989924</td>\n",
       "      <td>53.189606</td>\n",
       "    </tr>\n",
       "    <tr>\n",
       "      <th>4</th>\n",
       "      <td>7.147225</td>\n",
       "      <td>38.282474</td>\n",
       "      <td>46.639166</td>\n",
       "    </tr>\n",
       "    <tr>\n",
       "      <th>...</th>\n",
       "      <td>...</td>\n",
       "      <td>...</td>\n",
       "      <td>...</td>\n",
       "    </tr>\n",
       "    <tr>\n",
       "      <th>995</th>\n",
       "      <td>6.703317</td>\n",
       "      <td>24.055505</td>\n",
       "      <td>49.320356</td>\n",
       "    </tr>\n",
       "    <tr>\n",
       "      <th>996</th>\n",
       "      <td>6.542913</td>\n",
       "      <td>34.081303</td>\n",
       "      <td>49.608510</td>\n",
       "    </tr>\n",
       "    <tr>\n",
       "      <th>997</th>\n",
       "      <td>8.617184</td>\n",
       "      <td>32.652265</td>\n",
       "      <td>48.339795</td>\n",
       "    </tr>\n",
       "    <tr>\n",
       "      <th>998</th>\n",
       "      <td>9.909049</td>\n",
       "      <td>38.744914</td>\n",
       "      <td>53.950124</td>\n",
       "    </tr>\n",
       "    <tr>\n",
       "      <th>999</th>\n",
       "      <td>13.845007</td>\n",
       "      <td>29.902949</td>\n",
       "      <td>47.062995</td>\n",
       "    </tr>\n",
       "  </tbody>\n",
       "</table>\n",
       "<p>1000 rows × 3 columns</p>\n",
       "</div>"
      ],
      "text/plain": [
       "            x1         x2         x3\n",
       "0    10.540904  34.709330  50.225706\n",
       "1    10.959311  37.515444  48.218027\n",
       "2    16.235863  25.766240  50.884046\n",
       "3    10.862900  29.989924  53.189606\n",
       "4     7.147225  38.282474  46.639166\n",
       "..         ...        ...        ...\n",
       "995   6.703317  24.055505  49.320356\n",
       "996   6.542913  34.081303  49.608510\n",
       "997   8.617184  32.652265  48.339795\n",
       "998   9.909049  38.744914  53.950124\n",
       "999  13.845007  29.902949  47.062995\n",
       "\n",
       "[1000 rows x 3 columns]"
      ]
     },
     "execution_count": 18,
     "metadata": {},
     "output_type": "execute_result"
    }
   ],
   "source": [
    "data = pd.DataFrame({'x1':np.random.chisquare(10,1000),\n",
    "'x2':np.random.beta(10,2,1000)*40,\n",
    "'x3':np.random.normal(50,3,1000)})\n",
    "data"
   ]
  },
  {
   "cell_type": "code",
   "execution_count": 19,
   "id": "7763877b",
   "metadata": {},
   "outputs": [
    {
     "data": {
      "text/plain": [
       "array([[ 0.09696232,  0.38594107,  0.07898984],\n",
       "       [ 0.19152075,  1.05352018, -0.59096449],\n",
       "       [ 1.3840032 , -1.74163422,  0.29867518],\n",
       "       ...,\n",
       "       [-0.33779187, -0.10343779, -0.55033112],\n",
       "       [-0.04583488,  1.34601305,  1.32181286],\n",
       "       [ 0.84367808, -0.75750459, -0.97639401]])"
      ]
     },
     "execution_count": 19,
     "metadata": {},
     "output_type": "execute_result"
    }
   ],
   "source": [
    "from sklearn.preprocessing import StandardScaler\n",
    "sc=StandardScaler()\n",
    "sc1=sc.fit_transform(data)\n",
    "sc1"
   ]
  },
  {
   "cell_type": "code",
   "execution_count": null,
   "id": "585dfc45",
   "metadata": {},
   "outputs": [],
   "source": []
  }
 ],
 "metadata": {
  "kernelspec": {
   "display_name": "Python 3 (ipykernel)",
   "language": "python",
   "name": "python3"
  },
  "language_info": {
   "codemirror_mode": {
    "name": "ipython",
    "version": 3
   },
   "file_extension": ".py",
   "mimetype": "text/x-python",
   "name": "python",
   "nbconvert_exporter": "python",
   "pygments_lexer": "ipython3",
   "version": "3.9.7"
  }
 },
 "nbformat": 4,
 "nbformat_minor": 5
}
