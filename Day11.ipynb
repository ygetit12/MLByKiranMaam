{
 "cells": [
  {
   "cell_type": "markdown",
   "id": "fcc1ddb5",
   "metadata": {},
   "source": [
    "# Day 11: Decision Tree"
   ]
  },
  {
   "cell_type": "code",
   "execution_count": 1,
   "id": "db2a4553",
   "metadata": {},
   "outputs": [],
   "source": [
    "import numpy as np\n",
    "import pandas as pd\n",
    "import matplotlib.pyplot as plt"
   ]
  },
  {
   "cell_type": "code",
   "execution_count": 2,
   "id": "72bd5014",
   "metadata": {},
   "outputs": [
    {
     "data": {
      "text/html": [
       "<div>\n",
       "<style scoped>\n",
       "    .dataframe tbody tr th:only-of-type {\n",
       "        vertical-align: middle;\n",
       "    }\n",
       "\n",
       "    .dataframe tbody tr th {\n",
       "        vertical-align: top;\n",
       "    }\n",
       "\n",
       "    .dataframe thead th {\n",
       "        text-align: right;\n",
       "    }\n",
       "</style>\n",
       "<table border=\"1\" class=\"dataframe\">\n",
       "  <thead>\n",
       "    <tr style=\"text-align: right;\">\n",
       "      <th></th>\n",
       "      <th>Age</th>\n",
       "      <th>EstimatedSalary</th>\n",
       "      <th>Purchased</th>\n",
       "    </tr>\n",
       "  </thead>\n",
       "  <tbody>\n",
       "    <tr>\n",
       "      <th>0</th>\n",
       "      <td>19</td>\n",
       "      <td>19000</td>\n",
       "      <td>0</td>\n",
       "    </tr>\n",
       "    <tr>\n",
       "      <th>1</th>\n",
       "      <td>35</td>\n",
       "      <td>20000</td>\n",
       "      <td>0</td>\n",
       "    </tr>\n",
       "    <tr>\n",
       "      <th>2</th>\n",
       "      <td>26</td>\n",
       "      <td>43000</td>\n",
       "      <td>0</td>\n",
       "    </tr>\n",
       "    <tr>\n",
       "      <th>3</th>\n",
       "      <td>27</td>\n",
       "      <td>57000</td>\n",
       "      <td>0</td>\n",
       "    </tr>\n",
       "    <tr>\n",
       "      <th>4</th>\n",
       "      <td>19</td>\n",
       "      <td>76000</td>\n",
       "      <td>0</td>\n",
       "    </tr>\n",
       "    <tr>\n",
       "      <th>...</th>\n",
       "      <td>...</td>\n",
       "      <td>...</td>\n",
       "      <td>...</td>\n",
       "    </tr>\n",
       "    <tr>\n",
       "      <th>395</th>\n",
       "      <td>46</td>\n",
       "      <td>41000</td>\n",
       "      <td>1</td>\n",
       "    </tr>\n",
       "    <tr>\n",
       "      <th>396</th>\n",
       "      <td>51</td>\n",
       "      <td>23000</td>\n",
       "      <td>1</td>\n",
       "    </tr>\n",
       "    <tr>\n",
       "      <th>397</th>\n",
       "      <td>50</td>\n",
       "      <td>20000</td>\n",
       "      <td>1</td>\n",
       "    </tr>\n",
       "    <tr>\n",
       "      <th>398</th>\n",
       "      <td>36</td>\n",
       "      <td>33000</td>\n",
       "      <td>0</td>\n",
       "    </tr>\n",
       "    <tr>\n",
       "      <th>399</th>\n",
       "      <td>49</td>\n",
       "      <td>36000</td>\n",
       "      <td>1</td>\n",
       "    </tr>\n",
       "  </tbody>\n",
       "</table>\n",
       "<p>400 rows × 3 columns</p>\n",
       "</div>"
      ],
      "text/plain": [
       "     Age  EstimatedSalary  Purchased\n",
       "0     19            19000          0\n",
       "1     35            20000          0\n",
       "2     26            43000          0\n",
       "3     27            57000          0\n",
       "4     19            76000          0\n",
       "..   ...              ...        ...\n",
       "395   46            41000          1\n",
       "396   51            23000          1\n",
       "397   50            20000          1\n",
       "398   36            33000          0\n",
       "399   49            36000          1\n",
       "\n",
       "[400 rows x 3 columns]"
      ]
     },
     "execution_count": 2,
     "metadata": {},
     "output_type": "execute_result"
    }
   ],
   "source": [
    "dataset = pd.read_csv('D:/Social_Network_ads.csv')\n",
    "dataset"
   ]
  },
  {
   "cell_type": "code",
   "execution_count": 3,
   "id": "f62defe9",
   "metadata": {},
   "outputs": [],
   "source": [
    "X=dataset.iloc[:,:-1].values\n",
    "y=dataset.iloc[:,-1].values"
   ]
  },
  {
   "cell_type": "code",
   "execution_count": 4,
   "id": "ac5fc6b7",
   "metadata": {},
   "outputs": [],
   "source": [
    "from sklearn.model_selection import train_test_split\n",
    "X_train,X_test,y_train,y_test = train_test_split(X,y,test_size=0.2,random_state=1)"
   ]
  },
  {
   "cell_type": "code",
   "execution_count": 5,
   "id": "b7507115",
   "metadata": {},
   "outputs": [],
   "source": [
    "#Preprocessing\n",
    "from sklearn.preprocessing import StandardScaler\n",
    "sc=StandardScaler()\n",
    "X_train = sc.fit_transform(X_train)\n",
    "X_test = sc.fit_transform(X_test)"
   ]
  },
  {
   "cell_type": "code",
   "execution_count": 16,
   "id": "7ae902e9",
   "metadata": {},
   "outputs": [
    {
     "data": {
      "text/plain": [
       "DecisionTreeClassifier(criterion='entropy', random_state=1)"
      ]
     },
     "execution_count": 16,
     "metadata": {},
     "output_type": "execute_result"
    }
   ],
   "source": [
    "#Model Building\n",
    "from sklearn.tree import DecisionTreeClassifier\n",
    "model = DecisionTreeClassifier(criterion='entropy', random_state=1)\n",
    "model2 = model.fit(X_train, y_train)\n",
    "model2"
   ]
  },
  {
   "cell_type": "code",
   "execution_count": 17,
   "id": "62597f50",
   "metadata": {},
   "outputs": [
    {
     "name": "stdout",
     "output_type": "stream",
     "text": [
      "[1]\n"
     ]
    }
   ],
   "source": [
    "print(model2.predict(sc.transform([[42,98000]])))"
   ]
  },
  {
   "cell_type": "code",
   "execution_count": 18,
   "id": "17000be9",
   "metadata": {},
   "outputs": [],
   "source": [
    "y_pred = model2.predict(X_test)"
   ]
  },
  {
   "cell_type": "code",
   "execution_count": 19,
   "id": "c166f2c7",
   "metadata": {},
   "outputs": [
    {
     "name": "stdout",
     "output_type": "stream",
     "text": [
      "[[0 0]\n",
      " [0 0]\n",
      " [1 1]\n",
      " [0 1]\n",
      " [0 0]\n",
      " [0 0]\n",
      " [0 0]\n",
      " [0 1]\n",
      " [0 0]\n",
      " [1 0]\n",
      " [0 0]\n",
      " [0 0]\n",
      " [0 0]\n",
      " [1 1]\n",
      " [0 1]\n",
      " [1 1]\n",
      " [1 1]\n",
      " [0 0]\n",
      " [0 0]\n",
      " [1 1]\n",
      " [1 0]\n",
      " [0 1]\n",
      " [1 1]\n",
      " [0 0]\n",
      " [0 1]\n",
      " [0 0]\n",
      " [1 1]\n",
      " [0 0]\n",
      " [1 1]\n",
      " [1 0]\n",
      " [0 0]\n",
      " [0 0]\n",
      " [0 0]\n",
      " [1 1]\n",
      " [0 0]\n",
      " [0 0]\n",
      " [0 0]\n",
      " [0 0]\n",
      " [1 1]\n",
      " [0 0]\n",
      " [1 1]\n",
      " [1 1]\n",
      " [1 0]\n",
      " [0 0]\n",
      " [1 1]\n",
      " [0 1]\n",
      " [1 1]\n",
      " [1 1]\n",
      " [0 0]\n",
      " [1 1]\n",
      " [0 0]\n",
      " [0 0]\n",
      " [0 1]\n",
      " [0 1]\n",
      " [0 1]\n",
      " [0 0]\n",
      " [1 1]\n",
      " [0 0]\n",
      " [1 1]\n",
      " [1 1]\n",
      " [0 0]\n",
      " [0 0]\n",
      " [1 0]\n",
      " [0 0]\n",
      " [1 1]\n",
      " [1 1]\n",
      " [0 0]\n",
      " [0 0]\n",
      " [1 0]\n",
      " [0 0]\n",
      " [1 0]\n",
      " [0 0]\n",
      " [1 1]\n",
      " [0 0]\n",
      " [0 0]\n",
      " [1 1]\n",
      " [0 0]\n",
      " [0 0]\n",
      " [0 0]\n",
      " [0 0]]\n"
     ]
    }
   ],
   "source": [
    "print(np.concatenate((y_pred.reshape(len(y_pred),1), y_test.reshape(len(y_test),1)),1))"
   ]
  },
  {
   "cell_type": "code",
   "execution_count": 20,
   "id": "208a68f9",
   "metadata": {},
   "outputs": [
    {
     "data": {
      "text/plain": [
       "array([[41,  7],\n",
       "       [ 9, 23]], dtype=int64)"
      ]
     },
     "execution_count": 20,
     "metadata": {},
     "output_type": "execute_result"
    }
   ],
   "source": [
    "from sklearn.metrics import confusion_matrix, accuracy_score\n",
    "cm=confusion_matrix(y_test,y_pred)\n",
    "cm"
   ]
  },
  {
   "cell_type": "code",
   "execution_count": 21,
   "id": "685b06ba",
   "metadata": {},
   "outputs": [
    {
     "data": {
      "text/plain": [
       "0.8"
      ]
     },
     "execution_count": 21,
     "metadata": {},
     "output_type": "execute_result"
    }
   ],
   "source": [
    "accuracy_score(y_test,y_pred)"
   ]
  },
  {
   "cell_type": "code",
   "execution_count": 29,
   "id": "5387379b",
   "metadata": {},
   "outputs": [
    {
     "name": "stdout",
     "output_type": "stream",
     "text": [
      "[Text(162.82265625, 209.6742857142857, 'X[0] <= 0.708\\nentropy = 0.931\\nsamples = 320\\nvalue = [209, 111]'), Text(99.39375, 194.14285714285714, 'X[1] <= 0.656\\nentropy = 0.645\\nsamples = 237\\nvalue = [198, 39]'), Text(62.775000000000006, 178.61142857142858, 'X[0] <= -0.072\\nentropy = 0.218\\nsamples = 201\\nvalue = [194, 7]'), Text(52.3125, 163.07999999999998, 'entropy = 0.0\\nsamples = 134\\nvalue = [134, 0]'), Text(73.2375, 163.07999999999998, 'X[1] <= -0.023\\nentropy = 0.483\\nsamples = 67\\nvalue = [60, 7]'), Text(62.775000000000006, 147.54857142857142, 'entropy = 0.0\\nsamples = 35\\nvalue = [35, 0]'), Text(83.7, 147.54857142857142, 'X[1] <= 0.45\\nentropy = 0.758\\nsamples = 32\\nvalue = [25, 7]'), Text(73.2375, 132.01714285714286, 'X[0] <= 0.318\\nentropy = 0.65\\nsamples = 30\\nvalue = [25, 5]'), Text(62.775000000000006, 116.48571428571428, 'X[1] <= 0.065\\nentropy = 0.811\\nsamples = 20\\nvalue = [15, 5]'), Text(52.3125, 100.9542857142857, 'entropy = 0.0\\nsamples = 1\\nvalue = [0, 1]'), Text(73.2375, 100.9542857142857, 'X[1] <= 0.331\\nentropy = 0.742\\nsamples = 19\\nvalue = [15, 4]'), Text(62.775000000000006, 85.42285714285714, 'X[1] <= 0.272\\nentropy = 0.811\\nsamples = 16\\nvalue = [12, 4]'), Text(41.85, 69.89142857142858, 'X[0] <= 0.123\\nentropy = 0.619\\nsamples = 13\\nvalue = [11, 2]'), Text(31.387500000000003, 54.359999999999985, 'entropy = 0.0\\nsamples = 7\\nvalue = [7, 0]'), Text(52.3125, 54.359999999999985, 'X[1] <= 0.228\\nentropy = 0.918\\nsamples = 6\\nvalue = [4, 2]'), Text(41.85, 38.82857142857142, 'X[0] <= 0.221\\nentropy = 0.971\\nsamples = 5\\nvalue = [3, 2]'), Text(20.925, 23.29714285714286, 'X[1] <= 0.139\\nentropy = 1.0\\nsamples = 2\\nvalue = [1, 1]'), Text(10.4625, 7.765714285714267, 'entropy = 0.0\\nsamples = 1\\nvalue = [1, 0]'), Text(31.387500000000003, 7.765714285714267, 'entropy = 0.0\\nsamples = 1\\nvalue = [0, 1]'), Text(62.775000000000006, 23.29714285714286, 'X[1] <= 0.095\\nentropy = 0.918\\nsamples = 3\\nvalue = [2, 1]'), Text(52.3125, 7.765714285714267, 'entropy = 0.0\\nsamples = 1\\nvalue = [0, 1]'), Text(73.2375, 7.765714285714267, 'entropy = 0.0\\nsamples = 2\\nvalue = [2, 0]'), Text(62.775000000000006, 38.82857142857142, 'entropy = 0.0\\nsamples = 1\\nvalue = [1, 0]'), Text(83.7, 69.89142857142858, 'X[0] <= 0.123\\nentropy = 0.918\\nsamples = 3\\nvalue = [1, 2]'), Text(73.2375, 54.359999999999985, 'entropy = 0.0\\nsamples = 2\\nvalue = [0, 2]'), Text(94.16250000000001, 54.359999999999985, 'entropy = 0.0\\nsamples = 1\\nvalue = [1, 0]'), Text(83.7, 85.42285714285714, 'entropy = 0.0\\nsamples = 3\\nvalue = [3, 0]'), Text(83.7, 116.48571428571428, 'entropy = 0.0\\nsamples = 10\\nvalue = [10, 0]'), Text(94.16250000000001, 132.01714285714286, 'entropy = 0.0\\nsamples = 2\\nvalue = [0, 2]'), Text(136.01250000000002, 178.61142857142858, 'X[1] <= 1.484\\nentropy = 0.503\\nsamples = 36\\nvalue = [4, 32]'), Text(125.55000000000001, 163.07999999999998, 'X[1] <= 1.159\\nentropy = 0.764\\nsamples = 18\\nvalue = [4, 14]'), Text(115.0875, 147.54857142857142, 'entropy = 0.0\\nsamples = 10\\nvalue = [0, 10]'), Text(136.01250000000002, 147.54857142857142, 'X[0] <= 0.123\\nentropy = 1.0\\nsamples = 8\\nvalue = [4, 4]'), Text(125.55000000000001, 132.01714285714286, 'X[0] <= -0.608\\nentropy = 0.918\\nsamples = 6\\nvalue = [4, 2]'), Text(115.0875, 116.48571428571428, 'entropy = 0.0\\nsamples = 1\\nvalue = [1, 0]'), Text(136.01250000000002, 116.48571428571428, 'X[0] <= -0.267\\nentropy = 0.971\\nsamples = 5\\nvalue = [3, 2]'), Text(125.55000000000001, 100.9542857142857, 'X[0] <= -0.364\\nentropy = 1.0\\nsamples = 4\\nvalue = [2, 2]'), Text(115.0875, 85.42285714285714, 'X[1] <= 1.381\\nentropy = 0.918\\nsamples = 3\\nvalue = [2, 1]'), Text(104.625, 69.89142857142858, 'entropy = 0.0\\nsamples = 1\\nvalue = [1, 0]'), Text(125.55000000000001, 69.89142857142858, 'entropy = 1.0\\nsamples = 2\\nvalue = [1, 1]'), Text(136.01250000000002, 85.42285714285714, 'entropy = 0.0\\nsamples = 1\\nvalue = [0, 1]'), Text(146.475, 100.9542857142857, 'entropy = 0.0\\nsamples = 1\\nvalue = [1, 0]'), Text(146.475, 132.01714285714286, 'entropy = 0.0\\nsamples = 2\\nvalue = [0, 2]'), Text(146.475, 163.07999999999998, 'entropy = 0.0\\nsamples = 18\\nvalue = [0, 18]'), Text(226.2515625, 194.14285714285714, 'X[1] <= -0.792\\nentropy = 0.564\\nsamples = 83\\nvalue = [11, 72]'), Text(177.8625, 178.61142857142858, 'X[1] <= -1.354\\nentropy = 0.201\\nsamples = 32\\nvalue = [1, 31]'), Text(167.4, 163.07999999999998, 'X[1] <= -1.383\\nentropy = 0.722\\nsamples = 5\\nvalue = [1, 4]'), Text(156.9375, 147.54857142857142, 'entropy = 0.0\\nsamples = 2\\nvalue = [0, 2]'), Text(177.8625, 147.54857142857142, 'X[0] <= 0.806\\nentropy = 0.918\\nsamples = 3\\nvalue = [1, 2]'), Text(167.4, 132.01714285714286, 'entropy = 0.0\\nsamples = 2\\nvalue = [0, 2]'), Text(188.32500000000002, 132.01714285714286, 'entropy = 0.0\\nsamples = 1\\nvalue = [1, 0]'), Text(188.32500000000002, 163.07999999999998, 'entropy = 0.0\\nsamples = 27\\nvalue = [0, 27]'), Text(274.640625, 178.61142857142858, 'X[1] <= 0.479\\nentropy = 0.714\\nsamples = 51\\nvalue = [10, 41]'), Text(245.86875, 163.07999999999998, 'X[1] <= 0.361\\nentropy = 0.985\\nsamples = 21\\nvalue = [9, 12]'), Text(235.40625, 147.54857142857142, 'X[0] <= 1.391\\nentropy = 0.949\\nsamples = 19\\nvalue = [7, 12]'), Text(209.25, 132.01714285714286, 'X[0] <= 1.098\\nentropy = 1.0\\nsamples = 12\\nvalue = [6, 6]'), Text(198.7875, 116.48571428571428, 'X[1] <= -0.393\\nentropy = 0.971\\nsamples = 10\\nvalue = [4, 6]'), Text(177.8625, 100.9542857142857, 'X[1] <= -0.6\\nentropy = 0.722\\nsamples = 5\\nvalue = [1, 4]'), Text(167.4, 85.42285714285714, 'X[0] <= 0.854\\nentropy = 1.0\\nsamples = 2\\nvalue = [1, 1]'), Text(156.9375, 69.89142857142858, 'entropy = 0.0\\nsamples = 1\\nvalue = [0, 1]'), Text(177.8625, 69.89142857142858, 'entropy = 0.0\\nsamples = 1\\nvalue = [1, 0]'), Text(188.32500000000002, 85.42285714285714, 'entropy = 0.0\\nsamples = 3\\nvalue = [0, 3]'), Text(219.7125, 100.9542857142857, 'X[0] <= 0.952\\nentropy = 0.971\\nsamples = 5\\nvalue = [3, 2]'), Text(209.25, 85.42285714285714, 'X[1] <= 0.243\\nentropy = 0.811\\nsamples = 4\\nvalue = [3, 1]'), Text(198.7875, 69.89142857142858, 'entropy = 0.0\\nsamples = 2\\nvalue = [2, 0]'), Text(219.7125, 69.89142857142858, 'X[0] <= 0.806\\nentropy = 1.0\\nsamples = 2\\nvalue = [1, 1]'), Text(209.25, 54.359999999999985, 'entropy = 0.0\\nsamples = 1\\nvalue = [1, 0]'), Text(230.175, 54.359999999999985, 'entropy = 0.0\\nsamples = 1\\nvalue = [0, 1]'), Text(230.175, 85.42285714285714, 'entropy = 0.0\\nsamples = 1\\nvalue = [0, 1]'), Text(219.7125, 116.48571428571428, 'entropy = 0.0\\nsamples = 2\\nvalue = [2, 0]'), Text(261.5625, 132.01714285714286, 'X[1] <= -0.718\\nentropy = 0.592\\nsamples = 7\\nvalue = [1, 6]'), Text(251.10000000000002, 116.48571428571428, 'X[0] <= 2.171\\nentropy = 1.0\\nsamples = 2\\nvalue = [1, 1]'), Text(240.63750000000002, 100.9542857142857, 'entropy = 0.0\\nsamples = 1\\nvalue = [1, 0]'), Text(261.5625, 100.9542857142857, 'entropy = 0.0\\nsamples = 1\\nvalue = [0, 1]'), Text(272.02500000000003, 116.48571428571428, 'entropy = 0.0\\nsamples = 5\\nvalue = [0, 5]'), Text(256.33125, 147.54857142857142, 'entropy = 0.0\\nsamples = 2\\nvalue = [2, 0]'), Text(303.4125, 163.07999999999998, 'X[1] <= 1.898\\nentropy = 0.211\\nsamples = 30\\nvalue = [1, 29]'), Text(292.95, 147.54857142857142, 'entropy = 0.0\\nsamples = 20\\nvalue = [0, 20]'), Text(313.875, 147.54857142857142, 'X[1] <= 2.002\\nentropy = 0.469\\nsamples = 10\\nvalue = [1, 9]'), Text(303.4125, 132.01714285714286, 'X[0] <= 1.196\\nentropy = 1.0\\nsamples = 2\\nvalue = [1, 1]'), Text(292.95, 116.48571428571428, 'entropy = 0.0\\nsamples = 1\\nvalue = [0, 1]'), Text(313.875, 116.48571428571428, 'entropy = 0.0\\nsamples = 1\\nvalue = [1, 0]'), Text(324.33750000000003, 132.01714285714286, 'entropy = 0.0\\nsamples = 8\\nvalue = [0, 8]')]\n"
     ]
    },
    {
     "data": {
      "image/png": "[encoded data removed]",
      "text/plain": [
       "<Figure size 432x288 with 1 Axes>"
      ]
     },
     "metadata": {
      "needs_background": "light"
     },
     "output_type": "display_data"
    }
   ],
   "source": [
    "from sklearn import tree\n",
    "print(tree.plot_tree(model2))\n"
   ]
  },
  {
   "cell_type": "code",
   "execution_count": null,
   "id": "c05f73ea",
   "metadata": {},
   "outputs": [],
   "source": []
  },
  {
   "cell_type": "code",
   "execution_count": null,
   "id": "0acc02dd",
   "metadata": {},
   "outputs": [],
   "source": []
  }
 ],
 "metadata": {
  "kernelspec": {
   "display_name": "Python 3 (ipykernel)",
   "language": "python",
   "name": "python3"
  },
  "language_info": {
   "codemirror_mode": {
    "name": "ipython",
    "version": 3
   },
   "file_extension": ".py",
   "mimetype": "text/x-python",
   "name": "python",
   "nbconvert_exporter": "python",
   "pygments_lexer": "ipython3",
   "version": "3.9.13"
  }
 },
 "nbformat": 4,
 "nbformat_minor": 5
}
